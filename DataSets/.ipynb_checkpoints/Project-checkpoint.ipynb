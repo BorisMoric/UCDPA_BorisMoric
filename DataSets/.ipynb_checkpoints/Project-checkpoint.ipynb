{
 "cells": [
  {
   "cell_type": "markdown",
   "id": "7c6aae36-ae3a-460e-bf10-ced571809e3c",
   "metadata": {},
   "source": [
    "## Importing panda "
   ]
  },
  {
   "cell_type": "code",
   "execution_count": 2,
   "id": "8d37b51d-89a8-49de-abed-f7c9a7bc5df8",
   "metadata": {},
   "outputs": [],
   "source": [
    "import pandas as pd"
   ]
  },
  {
   "cell_type": "code",
   "execution_count": null,
   "id": "d67ddf3e-76eb-491c-938f-3c7585a38466",
   "metadata": {},
   "outputs": [],
   "source": [
    "## Importing a data file into a panda dataframe"
   ]
  },
  {
   "cell_type": "code",
   "execution_count": 4,
   "id": "c9b15b39-9023-4d15-9b05-d56041219ceb",
   "metadata": {},
   "outputs": [],
   "source": [
    "Age_mothers_raw = pd.read_csv('SF_2_3_Age_mothers_childbirth.csv')"
   ]
  },
  {
   "cell_type": "code",
   "execution_count": null,
   "id": "cf8437c3-f25c-41b0-818c-7127783c84f4",
   "metadata": {},
   "outputs": [],
   "source": [
    "## Investigating a dataframe and cleaning data"
   ]
  },
  {
   "cell_type": "code",
   "execution_count": null,
   "id": "57803349-8471-4bd3-b27a-0e7f2cdb03d7",
   "metadata": {},
   "outputs": [],
   "source": [
    "Age_mothers_raw.info()"
   ]
  },
  {
   "cell_type": "markdown",
   "id": "79481927-68e0-4d15-8411-225bdeb21b67",
   "metadata": {},
   "source": [
    "## from info() I've learned that there are 51 rows and 94 columns of data "
   ]
  },
  {
   "cell_type": "code",
   "execution_count": 7,
   "id": "64dc250a-5e1b-49ed-9b16-a2ed5ddb870e",
   "metadata": {},
   "outputs": [
    {
     "data": {
      "text/html": [
       "<div>\n",
       "<style scoped>\n",
       "    .dataframe tbody tr th:only-of-type {\n",
       "        vertical-align: middle;\n",
       "    }\n",
       "\n",
       "    .dataframe tbody tr th {\n",
       "        vertical-align: top;\n",
       "    }\n",
       "\n",
       "    .dataframe thead th {\n",
       "        text-align: right;\n",
       "    }\n",
       "</style>\n",
       "<table border=\"1\" class=\"dataframe\">\n",
       "  <thead>\n",
       "    <tr style=\"text-align: right;\">\n",
       "      <th></th>\n",
       "      <th>Unnamed: 0</th>\n",
       "      <th>Unnamed: 1</th>\n",
       "      <th>Unnamed: 2</th>\n",
       "      <th>Unnamed: 3</th>\n",
       "      <th>Unnamed: 4</th>\n",
       "      <th>Unnamed: 5</th>\n",
       "      <th>Unnamed: 6</th>\n",
       "      <th>Unnamed: 7</th>\n",
       "      <th>Unnamed: 8</th>\n",
       "      <th>Unnamed: 9</th>\n",
       "      <th>...</th>\n",
       "      <th>Unnamed: 84</th>\n",
       "      <th>Unnamed: 85</th>\n",
       "      <th>Unnamed: 86</th>\n",
       "      <th>Unnamed: 87</th>\n",
       "      <th>Unnamed: 88</th>\n",
       "      <th>Unnamed: 89</th>\n",
       "      <th>Unnamed: 90</th>\n",
       "      <th>Unnamed: 91</th>\n",
       "      <th>Unnamed: 92</th>\n",
       "      <th>Unnamed: 93</th>\n",
       "    </tr>\n",
       "  </thead>\n",
       "  <tbody>\n",
       "    <tr>\n",
       "      <th>0</th>\n",
       "      <td>Country</td>\n",
       "      <td>1960</td>\n",
       "      <td>1961</td>\n",
       "      <td>1962</td>\n",
       "      <td>1963</td>\n",
       "      <td>1964</td>\n",
       "      <td>1965</td>\n",
       "      <td>1966</td>\n",
       "      <td>1967</td>\n",
       "      <td>1968</td>\n",
       "      <td>...</td>\n",
       "      <td>NaN</td>\n",
       "      <td>NaN</td>\n",
       "      <td>NaN</td>\n",
       "      <td>NaN</td>\n",
       "      <td>NaN</td>\n",
       "      <td>NaN</td>\n",
       "      <td>NaN</td>\n",
       "      <td>NaN</td>\n",
       "      <td>NaN</td>\n",
       "      <td>NaN</td>\n",
       "    </tr>\n",
       "    <tr>\n",
       "      <th>1</th>\n",
       "      <td>OECD-Average</td>\n",
       "      <td>..</td>\n",
       "      <td>..</td>\n",
       "      <td>..</td>\n",
       "      <td>..</td>\n",
       "      <td>..</td>\n",
       "      <td>..</td>\n",
       "      <td>..</td>\n",
       "      <td>..</td>\n",
       "      <td>..</td>\n",
       "      <td>...</td>\n",
       "      <td>NaN</td>\n",
       "      <td>NaN</td>\n",
       "      <td>NaN</td>\n",
       "      <td>NaN</td>\n",
       "      <td>NaN</td>\n",
       "      <td>NaN</td>\n",
       "      <td>NaN</td>\n",
       "      <td>NaN</td>\n",
       "      <td>NaN</td>\n",
       "      <td>NaN</td>\n",
       "    </tr>\n",
       "    <tr>\n",
       "      <th>2</th>\n",
       "      <td>Australia</td>\n",
       "      <td>27.5</td>\n",
       "      <td>27.5</td>\n",
       "      <td>27.5</td>\n",
       "      <td>27.5</td>\n",
       "      <td>27.5</td>\n",
       "      <td>27.4</td>\n",
       "      <td>27.3</td>\n",
       "      <td>27.3</td>\n",
       "      <td>27.2</td>\n",
       "      <td>...</td>\n",
       "      <td>NaN</td>\n",
       "      <td>NaN</td>\n",
       "      <td>NaN</td>\n",
       "      <td>NaN</td>\n",
       "      <td>NaN</td>\n",
       "      <td>NaN</td>\n",
       "      <td>NaN</td>\n",
       "      <td>NaN</td>\n",
       "      <td>NaN</td>\n",
       "      <td>NaN</td>\n",
       "    </tr>\n",
       "    <tr>\n",
       "      <th>3</th>\n",
       "      <td>Austria</td>\n",
       "      <td>27.6</td>\n",
       "      <td>27.5</td>\n",
       "      <td>27.5</td>\n",
       "      <td>27.4</td>\n",
       "      <td>27.4</td>\n",
       "      <td>27.3</td>\n",
       "      <td>27.1</td>\n",
       "      <td>27.0</td>\n",
       "      <td>26.8</td>\n",
       "      <td>...</td>\n",
       "      <td>NaN</td>\n",
       "      <td>NaN</td>\n",
       "      <td>NaN</td>\n",
       "      <td>NaN</td>\n",
       "      <td>NaN</td>\n",
       "      <td>NaN</td>\n",
       "      <td>NaN</td>\n",
       "      <td>NaN</td>\n",
       "      <td>NaN</td>\n",
       "      <td>NaN</td>\n",
       "    </tr>\n",
       "    <tr>\n",
       "      <th>4</th>\n",
       "      <td>Belgium</td>\n",
       "      <td>28.0</td>\n",
       "      <td>27.9</td>\n",
       "      <td>27.9</td>\n",
       "      <td>27.8</td>\n",
       "      <td>27.7</td>\n",
       "      <td>27.6</td>\n",
       "      <td>27.5</td>\n",
       "      <td>27.4</td>\n",
       "      <td>27.3</td>\n",
       "      <td>...</td>\n",
       "      <td>NaN</td>\n",
       "      <td>NaN</td>\n",
       "      <td>NaN</td>\n",
       "      <td>NaN</td>\n",
       "      <td>NaN</td>\n",
       "      <td>NaN</td>\n",
       "      <td>NaN</td>\n",
       "      <td>NaN</td>\n",
       "      <td>NaN</td>\n",
       "      <td>NaN</td>\n",
       "    </tr>\n",
       "  </tbody>\n",
       "</table>\n",
       "<p>5 rows × 94 columns</p>\n",
       "</div>"
      ],
      "text/plain": [
       "     Unnamed: 0 Unnamed: 1 Unnamed: 2 Unnamed: 3 Unnamed: 4 Unnamed: 5  \\\n",
       "0       Country       1960       1961       1962       1963       1964   \n",
       "1  OECD-Average         ..         ..         ..         ..         ..   \n",
       "2     Australia       27.5       27.5       27.5       27.5       27.5   \n",
       "3       Austria       27.6       27.5       27.5       27.4       27.4   \n",
       "4       Belgium       28.0       27.9       27.9       27.8       27.7   \n",
       "\n",
       "  Unnamed: 6 Unnamed: 7 Unnamed: 8 Unnamed: 9  ... Unnamed: 84 Unnamed: 85  \\\n",
       "0       1965       1966       1967       1968  ...         NaN         NaN   \n",
       "1         ..         ..         ..         ..  ...         NaN         NaN   \n",
       "2       27.4       27.3       27.3       27.2  ...         NaN         NaN   \n",
       "3       27.3       27.1       27.0       26.8  ...         NaN         NaN   \n",
       "4       27.6       27.5       27.4       27.3  ...         NaN         NaN   \n",
       "\n",
       "  Unnamed: 86 Unnamed: 87 Unnamed: 88 Unnamed: 89 Unnamed: 90 Unnamed: 91  \\\n",
       "0         NaN         NaN         NaN         NaN         NaN         NaN   \n",
       "1         NaN         NaN         NaN         NaN         NaN         NaN   \n",
       "2         NaN         NaN         NaN         NaN         NaN         NaN   \n",
       "3         NaN         NaN         NaN         NaN         NaN         NaN   \n",
       "4         NaN         NaN         NaN         NaN         NaN         NaN   \n",
       "\n",
       "  Unnamed: 92 Unnamed: 93  \n",
       "0         NaN         NaN  \n",
       "1         NaN         NaN  \n",
       "2         NaN         NaN  \n",
       "3         NaN         NaN  \n",
       "4         NaN         NaN  \n",
       "\n",
       "[5 rows x 94 columns]"
      ]
     },
     "execution_count": 7,
     "metadata": {},
     "output_type": "execute_result"
    }
   ],
   "source": [
    "Age_mothers_raw.iloc[0:5, :]"
   ]
  },
  {
   "cell_type": "markdown",
   "id": "e9b791da-87dd-4732-ae75-7d6a0e90b095",
   "metadata": {},
   "source": [
    "## Observations:\n",
    "## 1. could firt row be used for column index and first column as row index\n",
    "## 2. looking at the first few rows I determined that there are some null values and the question was is if some of the rows/columns could be discarded\n"
   ]
  },
  {
   "cell_type": "code",
   "execution_count": null,
   "id": "22eac783-cf3e-405f-8e2a-08cad0d25541",
   "metadata": {},
   "outputs": [],
   "source": [
    "## 1. setting firt row for column index and first column as row index"
   ]
  },
  {
   "cell_type": "code",
   "execution_count": 41,
   "id": "ae68943d-15c0-4410-a8a5-3c05abf5137a",
   "metadata": {},
   "outputs": [],
   "source": [
    "Age_mothers_df.columns=Age_mothers_df.iloc[0]"
   ]
  },
  {
   "cell_type": "code",
   "execution_count": null,
   "id": "96dc36ee-7aba-43b4-8563-cd833c23a68b",
   "metadata": {
    "tags": []
   },
   "outputs": [],
   "source": [
    "Age_mothers_df"
   ]
  },
  {
   "cell_type": "code",
   "execution_count": null,
   "id": "bf22785b-1c98-4068-919a-e15214fe8ec0",
   "metadata": {},
   "outputs": [],
   "source": [
    "Age_mothers_raw.isnull().sum()"
   ]
  },
  {
   "cell_type": "code",
   "execution_count": null,
   "id": "8e958791-f26e-43e4-b900-6f1caf1040d4",
   "metadata": {},
   "outputs": [],
   "source": [
    "Null_info.iloc[50:89]"
   ]
  },
  {
   "cell_type": "code",
   "execution_count": 30,
   "id": "86bcf396-78e6-4ef9-b793-5003c8aa4555",
   "metadata": {},
   "outputs": [],
   "source": [
    "Age_mothers_df = Age_mothers_raw.iloc[0:52,0:62]"
   ]
  },
  {
   "cell_type": "code",
   "execution_count": null,
   "id": "ceefcadb-526f-4060-aaa5-a88154963b08",
   "metadata": {},
   "outputs": [],
   "source": [
    "## 1. checking for columns with Null values that can be discarded"
   ]
  },
  {
   "cell_type": "code",
   "execution_count": 11,
   "id": "42f7eafb-d086-4274-bb2b-c953312a04a4",
   "metadata": {},
   "outputs": [],
   "source": [
    "Null_info = Age_mothers_raw.isnull().sum()"
   ]
  },
  {
   "cell_type": "code",
   "execution_count": null,
   "id": "2c6d167a-51a7-442a-aef9-eb586bcafed1",
   "metadata": {},
   "outputs": [],
   "source": [
    "Null_info"
   ]
  },
  {
   "cell_type": "markdown",
   "id": "733f6936-8a1b-4ee5-b0f7-d25316c50a2d",
   "metadata": {},
   "source": [
    "## from column 62 all data elements are null"
   ]
  }
 ],
 "metadata": {
  "kernelspec": {
   "display_name": "Python 3",
   "language": "python",
   "name": "python3"
  },
  "language_info": {
   "codemirror_mode": {
    "name": "ipython",
    "version": 3
   },
   "file_extension": ".py",
   "mimetype": "text/x-python",
   "name": "python",
   "nbconvert_exporter": "python",
   "pygments_lexer": "ipython3",
   "version": "3.8.8"
  },
  "toc-autonumbering": false,
  "toc-showcode": false,
  "toc-showmarkdowntxt": false,
  "toc-showtags": true
 },
 "nbformat": 4,
 "nbformat_minor": 5
}
